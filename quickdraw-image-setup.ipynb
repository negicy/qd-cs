{
 "cells": [
  {
   "cell_type": "code",
   "execution_count": 1,
   "metadata": {
    "scrolled": false
   },
   "outputs": [
    {
     "name": "stdout",
     "output_type": "stream",
     "text": [
      "Collecting quickdraw\n",
      "  Using cached quickdraw-0.1.0-py3-none-any.whl (10 kB)\n",
      "Requirement already satisfied: requests in c:\\users\\81901\\anaconda3\\envs\\env1\\lib\\site-packages (from quickdraw) (2.25.1)\n",
      "Requirement already satisfied: pillow in c:\\users\\81901\\anaconda3\\envs\\env1\\lib\\site-packages (from quickdraw) (8.1.0)\n",
      "Requirement already satisfied: certifi>=2017.4.17 in c:\\users\\81901\\anaconda3\\envs\\env1\\lib\\site-packages (from requests->quickdraw) (2020.12.5)\n",
      "Requirement already satisfied: urllib3<1.27,>=1.21.1 in c:\\users\\81901\\anaconda3\\envs\\env1\\lib\\site-packages (from requests->quickdraw) (1.26.3)\n",
      "Requirement already satisfied: chardet<5,>=3.0.2 in c:\\users\\81901\\anaconda3\\envs\\env1\\lib\\site-packages (from requests->quickdraw) (3.0.4)\n",
      "Requirement already satisfied: idna<3,>=2.5 in c:\\users\\81901\\anaconda3\\envs\\env1\\lib\\site-packages (from requests->quickdraw) (2.10)\n",
      "Installing collected packages: quickdraw\n",
      "Successfully installed quickdraw-0.1.0\n"
     ]
    }
   ],
   "source": [
    "!pip3 install quickdraw"
   ]
  },
  {
   "cell_type": "code",
   "execution_count": null,
   "metadata": {},
   "outputs": [],
   "source": [
    "### example ###"
   ]
  },
  {
   "cell_type": "code",
   "execution_count": 15,
   "metadata": {},
   "outputs": [],
   "source": [
    "import os\n",
    "os.getcwd()\n",
    "os.chdir('C:\\\\Users\\\\81901\\\\presemi/anvis')"
   ]
  },
  {
   "cell_type": "code",
   "execution_count": 18,
   "metadata": {
    "scrolled": true
   },
   "outputs": [
    {
     "name": "stdout",
     "output_type": "stream",
     "text": [
      "loading anvil drawings\n",
      "load complete\n"
     ]
    }
   ],
   "source": [
    "\n",
    "from quickdraw import QuickDrawData\n",
    "\n",
    "qd = QuickDrawData()\n",
    "for num in range(10):\n",
    "    anvil = qd.get_drawing(\"anvil\")\n",
    "    anvil.image.save(str(anvil.key_id) +\".png\")"
   ]
  },
  {
   "cell_type": "code",
   "execution_count": null,
   "metadata": {},
   "outputs": [],
   "source": [
    "### ========= ###"
   ]
  },
  {
   "cell_type": "code",
   "execution_count": null,
   "metadata": {},
   "outputs": [],
   "source": []
  },
  {
   "cell_type": "code",
   "execution_count": 10,
   "metadata": {
    "scrolled": true
   },
   "outputs": [
    {
     "name": "stdout",
     "output_type": "stream",
     "text": [
      "downloading flower from https://storage.googleapis.com/quickdraw_dataset/full/binary/flower.bin\n",
      "download complete\n",
      "loading flower drawings\n",
      "load complete\n"
     ]
    }
   ],
   "source": [
    "import os\n",
    "from quickdraw import QuickDrawData\n",
    "from quickdraw import QuickDrawDataGroup\n",
    "\n",
    "# 画像生成\n",
    "object_name = 'flower'\n",
    "os.getcwd()\n",
    "os.chdir('C:\\\\Users\\\\81901\\\\presemi/' + object_name)\n",
    "\n",
    "object_group = QuickDrawDataGroup(object_name, max_drawings=None)\n",
    "# qd = QuickDrawData()\n",
    "\n",
    "for num in range(200):\n",
    "    img = object_group.get_drawing()\n",
    "    img.image.save(str(img.key_id) +\".png\")"
   ]
  },
  {
   "cell_type": "code",
   "execution_count": 11,
   "metadata": {},
   "outputs": [
    {
     "name": "stdout",
     "output_type": "stream",
     "text": [
      "201\n"
     ]
    }
   ],
   "source": [
    "path='C:\\\\Users\\\\81901\\\\presemi/flower'\n",
    "data_list = os.listdir(path)\n",
    "print(len(data_list))\n"
   ]
  },
  {
   "cell_type": "code",
   "execution_count": 20,
   "metadata": {},
   "outputs": [],
   "source": [
    "# 生成したurlを格納する配列\n",
    "url_list = []\n",
    "\n",
    "key_url_list = []\n"
   ]
  },
  {
   "cell_type": "code",
   "execution_count": 53,
   "metadata": {},
   "outputs": [
    {
     "name": "stdout",
     "output_type": "stream",
     "text": [
      "aaa\n"
     ]
    }
   ],
   "source": [
    "str = \"aaa.png\"\n",
    "print(str.split(\".\")[0])"
   ]
  },
  {
   "cell_type": "code",
   "execution_count": 21,
   "metadata": {},
   "outputs": [
    {
     "name": "stdout",
     "output_type": "stream",
     "text": [
      "600\n"
     ]
    }
   ],
   "source": [
    "# 画像ファイル名からurlを作成\n",
    "obj_list = ['hat', 'triangle', 'flower']\n",
    "\n",
    "\n",
    "for obj in obj_list:\n",
    "    path='C:\\\\Users\\\\81901\\\\presemi/' + obj\n",
    "    data_list = os.listdir(path)\n",
    "    \n",
    "    # 生成したurlのリスト\n",
    "    #  print(len(url_list))\n",
    "\n",
    "    for file in data_list:\n",
    "        # print(file)\n",
    "        parent_path = \"https://s3-ap-northeast-1.amazonaws.com/projects.crowd4u.org/s201811523/qd/\" + obj + '/'\n",
    "        url = parent_path + file\n",
    "        \n",
    "        # fleから拡張子を除く\n",
    "        filename = file.split('.')[0]\n",
    "        key_url_list.append([filename, url])\n",
    "        \n",
    "        #  print(url)\n",
    "        url_row = [url]\n",
    "        url_list.append(url_row)\n",
    "        # print(url_row)\n",
    "print(len(url_list))\n",
    "    "
   ]
  },
  {
   "cell_type": "code",
   "execution_count": 22,
   "metadata": {
    "scrolled": false
   },
   "outputs": [],
   "source": [
    "# 生成したurlをcsvファイルに書き込み\n",
    "import csv\n",
    "# print(url_list)\n",
    "os.getcwd()\n",
    "os.chdir('C:\\\\Users\\\\81901\\\\presemi/')\n",
    "\n",
    "with open('image_url_sandbox.csv', 'w') as fout:\n",
    "    csvout=csv.writer(fout, lineterminator='\\n')\n",
    "    csvout.writerows(url_list)"
   ]
  },
  {
   "cell_type": "code",
   "execution_count": 62,
   "metadata": {},
   "outputs": [
    {
     "name": "stdout",
     "output_type": "stream",
     "text": [
      "[['4509443779723264', 'https://s3-ap-northeast-1.amazonaws.com/projects.crowd4u.org/s201811523/qd/hat/4509443779723264.png'], ['4515131285307392', 'https://s3-ap-northeast-1.amazonaws.com/projects.crowd4u.org/s201811523/qd/hat/4515131285307392.png'], ['4543013307023360', 'https://s3-ap-northeast-1.amazonaws.com/projects.crowd4u.org/s201811523/qd/hat/4543013307023360.png'], ['4549326506295296', 'https://s3-ap-northeast-1.amazonaws.com/projects.crowd4u.org/s201811523/qd/hat/4549326506295296.png'], ['4560043863179264', 'https://s3-ap-northeast-1.amazonaws.com/projects.crowd4u.org/s201811523/qd/hat/4560043863179264.png'], ['4593348247552000', 'https://s3-ap-northeast-1.amazonaws.com/projects.crowd4u.org/s201811523/qd/hat/4593348247552000.png'], ['4596584987754496', 'https://s3-ap-northeast-1.amazonaws.com/projects.crowd4u.org/s201811523/qd/hat/4596584987754496.png'], ['4605882769866752', 'https://s3-ap-northeast-1.amazonaws.com/projects.crowd4u.org/s201811523/qd/hat/4605882769866752.png'], ['4635136681312256', 'https://s3-ap-northeast-1.amazonaws.com/projects.crowd4u.org/s201811523/qd/hat/4635136681312256.png'], ['4663611072970752', 'https://s3-ap-northeast-1.amazonaws.com/projects.crowd4u.org/s201811523/qd/hat/4663611072970752.png'], ['4687361755578368', 'https://s3-ap-northeast-1.amazonaws.com/projects.crowd4u.org/s201811523/qd/hat/4687361755578368.png'], ['4695441310482432', 'https://s3-ap-northeast-1.amazonaws.com/projects.crowd4u.org/s201811523/qd/hat/4695441310482432.png'], ['4702024220278784', 'https://s3-ap-northeast-1.amazonaws.com/projects.crowd4u.org/s201811523/qd/hat/4702024220278784.png'], ['4729990513950720', 'https://s3-ap-northeast-1.amazonaws.com/projects.crowd4u.org/s201811523/qd/hat/4729990513950720.png'], ['4736002931294208', 'https://s3-ap-northeast-1.amazonaws.com/projects.crowd4u.org/s201811523/qd/hat/4736002931294208.png'], ['4737979153121280', 'https://s3-ap-northeast-1.amazonaws.com/projects.crowd4u.org/s201811523/qd/hat/4737979153121280.png'], ['4784560191569920', 'https://s3-ap-northeast-1.amazonaws.com/projects.crowd4u.org/s201811523/qd/hat/4784560191569920.png'], ['4788462920138752', 'https://s3-ap-northeast-1.amazonaws.com/projects.crowd4u.org/s201811523/qd/hat/4788462920138752.png'], ['4795410247843840', 'https://s3-ap-northeast-1.amazonaws.com/projects.crowd4u.org/s201811523/qd/hat/4795410247843840.png'], ['4796900505026560', 'https://s3-ap-northeast-1.amazonaws.com/projects.crowd4u.org/s201811523/qd/hat/4796900505026560.png'], ['4820333305528320', 'https://s3-ap-northeast-1.amazonaws.com/projects.crowd4u.org/s201811523/qd/hat/4820333305528320.png'], ['4829535994380288', 'https://s3-ap-northeast-1.amazonaws.com/projects.crowd4u.org/s201811523/qd/hat/4829535994380288.png'], ['4898217638494208', 'https://s3-ap-northeast-1.amazonaws.com/projects.crowd4u.org/s201811523/qd/hat/4898217638494208.png'], ['4899524449402880', 'https://s3-ap-northeast-1.amazonaws.com/projects.crowd4u.org/s201811523/qd/hat/4899524449402880.png'], ['4906481960878080', 'https://s3-ap-northeast-1.amazonaws.com/projects.crowd4u.org/s201811523/qd/hat/4906481960878080.png'], ['4927372887326720', 'https://s3-ap-northeast-1.amazonaws.com/projects.crowd4u.org/s201811523/qd/hat/4927372887326720.png'], ['4941019269300224', 'https://s3-ap-northeast-1.amazonaws.com/projects.crowd4u.org/s201811523/qd/hat/4941019269300224.png'], ['4958903550869504', 'https://s3-ap-northeast-1.amazonaws.com/projects.crowd4u.org/s201811523/qd/hat/4958903550869504.png'], ['4996102363283456', 'https://s3-ap-northeast-1.amazonaws.com/projects.crowd4u.org/s201811523/qd/hat/4996102363283456.png'], ['5053132042141696', 'https://s3-ap-northeast-1.amazonaws.com/projects.crowd4u.org/s201811523/qd/hat/5053132042141696.png'], ['5100428188450816', 'https://s3-ap-northeast-1.amazonaws.com/projects.crowd4u.org/s201811523/qd/hat/5100428188450816.png'], ['5101310674206720', 'https://s3-ap-northeast-1.amazonaws.com/projects.crowd4u.org/s201811523/qd/hat/5101310674206720.png'], ['5120262028656640', 'https://s3-ap-northeast-1.amazonaws.com/projects.crowd4u.org/s201811523/qd/hat/5120262028656640.png'], ['5150391945658368', 'https://s3-ap-northeast-1.amazonaws.com/projects.crowd4u.org/s201811523/qd/hat/5150391945658368.png'], ['5154813513826304', 'https://s3-ap-northeast-1.amazonaws.com/projects.crowd4u.org/s201811523/qd/hat/5154813513826304.png'], ['5188846583021568', 'https://s3-ap-northeast-1.amazonaws.com/projects.crowd4u.org/s201811523/qd/hat/5188846583021568.png'], ['5195215432318976', 'https://s3-ap-northeast-1.amazonaws.com/projects.crowd4u.org/s201811523/qd/hat/5195215432318976.png'], ['5196434435473408', 'https://s3-ap-northeast-1.amazonaws.com/projects.crowd4u.org/s201811523/qd/hat/5196434435473408.png'], ['5203439707488256', 'https://s3-ap-northeast-1.amazonaws.com/projects.crowd4u.org/s201811523/qd/hat/5203439707488256.png'], ['5215775323324416', 'https://s3-ap-northeast-1.amazonaws.com/projects.crowd4u.org/s201811523/qd/hat/5215775323324416.png'], ['5252409381093376', 'https://s3-ap-northeast-1.amazonaws.com/projects.crowd4u.org/s201811523/qd/hat/5252409381093376.png'], ['5278011966357504', 'https://s3-ap-northeast-1.amazonaws.com/projects.crowd4u.org/s201811523/qd/hat/5278011966357504.png'], ['5286853328502784', 'https://s3-ap-northeast-1.amazonaws.com/projects.crowd4u.org/s201811523/qd/hat/5286853328502784.png'], ['5290625849098240', 'https://s3-ap-northeast-1.amazonaws.com/projects.crowd4u.org/s201811523/qd/hat/5290625849098240.png'], ['5311867956232192', 'https://s3-ap-northeast-1.amazonaws.com/projects.crowd4u.org/s201811523/qd/hat/5311867956232192.png'], ['5327688266940416', 'https://s3-ap-northeast-1.amazonaws.com/projects.crowd4u.org/s201811523/qd/hat/5327688266940416.png'], ['5345760512049152', 'https://s3-ap-northeast-1.amazonaws.com/projects.crowd4u.org/s201811523/qd/hat/5345760512049152.png'], ['5356868908089344', 'https://s3-ap-northeast-1.amazonaws.com/projects.crowd4u.org/s201811523/qd/hat/5356868908089344.png'], ['5384238822064128', 'https://s3-ap-northeast-1.amazonaws.com/projects.crowd4u.org/s201811523/qd/hat/5384238822064128.png'], ['5391627424104448', 'https://s3-ap-northeast-1.amazonaws.com/projects.crowd4u.org/s201811523/qd/hat/5391627424104448.png'], ['5399087060877312', 'https://s3-ap-northeast-1.amazonaws.com/projects.crowd4u.org/s201811523/qd/hat/5399087060877312.png'], ['5415082894819328', 'https://s3-ap-northeast-1.amazonaws.com/projects.crowd4u.org/s201811523/qd/hat/5415082894819328.png'], ['5484258011381760', 'https://s3-ap-northeast-1.amazonaws.com/projects.crowd4u.org/s201811523/qd/hat/5484258011381760.png'], ['5496511985090560', 'https://s3-ap-northeast-1.amazonaws.com/projects.crowd4u.org/s201811523/qd/hat/5496511985090560.png'], ['5514822806405120', 'https://s3-ap-northeast-1.amazonaws.com/projects.crowd4u.org/s201811523/qd/hat/5514822806405120.png'], ['5554733370572800', 'https://s3-ap-northeast-1.amazonaws.com/projects.crowd4u.org/s201811523/qd/hat/5554733370572800.png'], ['5566124731138048', 'https://s3-ap-northeast-1.amazonaws.com/projects.crowd4u.org/s201811523/qd/hat/5566124731138048.png'], ['5629744257171456', 'https://s3-ap-northeast-1.amazonaws.com/projects.crowd4u.org/s201811523/qd/hat/5629744257171456.png'], ['5649034679156736', 'https://s3-ap-northeast-1.amazonaws.com/projects.crowd4u.org/s201811523/qd/hat/5649034679156736.png'], ['5651833823428608', 'https://s3-ap-northeast-1.amazonaws.com/projects.crowd4u.org/s201811523/qd/hat/5651833823428608.png'], ['5707170601500672', 'https://s3-ap-northeast-1.amazonaws.com/projects.crowd4u.org/s201811523/qd/hat/5707170601500672.png'], ['5726692251271168', 'https://s3-ap-northeast-1.amazonaws.com/projects.crowd4u.org/s201811523/qd/hat/5726692251271168.png'], ['5762475536416768', 'https://s3-ap-northeast-1.amazonaws.com/projects.crowd4u.org/s201811523/qd/hat/5762475536416768.png'], ['5846383946891264', 'https://s3-ap-northeast-1.amazonaws.com/projects.crowd4u.org/s201811523/qd/hat/5846383946891264.png'], ['5846529539571712', 'https://s3-ap-northeast-1.amazonaws.com/projects.crowd4u.org/s201811523/qd/hat/5846529539571712.png'], ['5868403275333632', 'https://s3-ap-northeast-1.amazonaws.com/projects.crowd4u.org/s201811523/qd/hat/5868403275333632.png'], ['5871215719743488', 'https://s3-ap-northeast-1.amazonaws.com/projects.crowd4u.org/s201811523/qd/hat/5871215719743488.png'], ['5918550642393088', 'https://s3-ap-northeast-1.amazonaws.com/projects.crowd4u.org/s201811523/qd/hat/5918550642393088.png'], ['5926724334256128', 'https://s3-ap-northeast-1.amazonaws.com/projects.crowd4u.org/s201811523/qd/hat/5926724334256128.png'], ['5966316143902720', 'https://s3-ap-northeast-1.amazonaws.com/projects.crowd4u.org/s201811523/qd/hat/5966316143902720.png'], ['5976370612011008', 'https://s3-ap-northeast-1.amazonaws.com/projects.crowd4u.org/s201811523/qd/hat/5976370612011008.png'], ['6018713151078400', 'https://s3-ap-northeast-1.amazonaws.com/projects.crowd4u.org/s201811523/qd/hat/6018713151078400.png'], ['6026381311868928', 'https://s3-ap-northeast-1.amazonaws.com/projects.crowd4u.org/s201811523/qd/hat/6026381311868928.png'], ['6040994485108736', 'https://s3-ap-northeast-1.amazonaws.com/projects.crowd4u.org/s201811523/qd/hat/6040994485108736.png'], ['6061764275863552', 'https://s3-ap-northeast-1.amazonaws.com/projects.crowd4u.org/s201811523/qd/hat/6061764275863552.png'], ['6093647948808192', 'https://s3-ap-northeast-1.amazonaws.com/projects.crowd4u.org/s201811523/qd/hat/6093647948808192.png'], ['6100095768461312', 'https://s3-ap-northeast-1.amazonaws.com/projects.crowd4u.org/s201811523/qd/hat/6100095768461312.png'], ['6105678710046720', 'https://s3-ap-northeast-1.amazonaws.com/projects.crowd4u.org/s201811523/qd/hat/6105678710046720.png'], ['6124770254913536', 'https://s3-ap-northeast-1.amazonaws.com/projects.crowd4u.org/s201811523/qd/hat/6124770254913536.png'], ['6128283571716096', 'https://s3-ap-northeast-1.amazonaws.com/projects.crowd4u.org/s201811523/qd/hat/6128283571716096.png'], ['6135862263808000', 'https://s3-ap-northeast-1.amazonaws.com/projects.crowd4u.org/s201811523/qd/hat/6135862263808000.png'], ['6152588120555520', 'https://s3-ap-northeast-1.amazonaws.com/projects.crowd4u.org/s201811523/qd/hat/6152588120555520.png'], ['6250699031576576', 'https://s3-ap-northeast-1.amazonaws.com/projects.crowd4u.org/s201811523/qd/hat/6250699031576576.png'], ['6267525723586560', 'https://s3-ap-northeast-1.amazonaws.com/projects.crowd4u.org/s201811523/qd/hat/6267525723586560.png'], ['6321266719981568', 'https://s3-ap-northeast-1.amazonaws.com/projects.crowd4u.org/s201811523/qd/hat/6321266719981568.png'], ['6341116670509056', 'https://s3-ap-northeast-1.amazonaws.com/projects.crowd4u.org/s201811523/qd/hat/6341116670509056.png'], ['6350004279050240', 'https://s3-ap-northeast-1.amazonaws.com/projects.crowd4u.org/s201811523/qd/hat/6350004279050240.png'], ['6354675559301120', 'https://s3-ap-northeast-1.amazonaws.com/projects.crowd4u.org/s201811523/qd/hat/6354675559301120.png'], ['6363641219645440', 'https://s3-ap-northeast-1.amazonaws.com/projects.crowd4u.org/s201811523/qd/hat/6363641219645440.png'], ['6385049668681728', 'https://s3-ap-northeast-1.amazonaws.com/projects.crowd4u.org/s201811523/qd/hat/6385049668681728.png'], ['6402837846163456', 'https://s3-ap-northeast-1.amazonaws.com/projects.crowd4u.org/s201811523/qd/hat/6402837846163456.png'], ['6438737720377344', 'https://s3-ap-northeast-1.amazonaws.com/projects.crowd4u.org/s201811523/qd/hat/6438737720377344.png'], ['6482555144503296', 'https://s3-ap-northeast-1.amazonaws.com/projects.crowd4u.org/s201811523/qd/hat/6482555144503296.png'], ['6502854804111360', 'https://s3-ap-northeast-1.amazonaws.com/projects.crowd4u.org/s201811523/qd/hat/6502854804111360.png'], ['6513894442926080', 'https://s3-ap-northeast-1.amazonaws.com/projects.crowd4u.org/s201811523/qd/hat/6513894442926080.png'], ['6585763657416704', 'https://s3-ap-northeast-1.amazonaws.com/projects.crowd4u.org/s201811523/qd/hat/6585763657416704.png'], ['6698794500489216', 'https://s3-ap-northeast-1.amazonaws.com/projects.crowd4u.org/s201811523/qd/hat/6698794500489216.png'], ['6732485578719232', 'https://s3-ap-northeast-1.amazonaws.com/projects.crowd4u.org/s201811523/qd/hat/6732485578719232.png'], ['6732989016834048', 'https://s3-ap-northeast-1.amazonaws.com/projects.crowd4u.org/s201811523/qd/hat/6732989016834048.png'], ['6753419941380096', 'https://s3-ap-northeast-1.amazonaws.com/projects.crowd4u.org/s201811523/qd/hat/6753419941380096.png'], ['4539232544620544', 'https://s3-ap-northeast-1.amazonaws.com/projects.crowd4u.org/s201811523/qd/triangle/4539232544620544.png'], ['4544740353638400', 'https://s3-ap-northeast-1.amazonaws.com/projects.crowd4u.org/s201811523/qd/triangle/4544740353638400.png'], ['4584260948197376', 'https://s3-ap-northeast-1.amazonaws.com/projects.crowd4u.org/s201811523/qd/triangle/4584260948197376.png'], ['4590333851598848', 'https://s3-ap-northeast-1.amazonaws.com/projects.crowd4u.org/s201811523/qd/triangle/4590333851598848.png'], ['4595351644274688', 'https://s3-ap-northeast-1.amazonaws.com/projects.crowd4u.org/s201811523/qd/triangle/4595351644274688.png'], ['4598342015254528', 'https://s3-ap-northeast-1.amazonaws.com/projects.crowd4u.org/s201811523/qd/triangle/4598342015254528.png'], ['4604835250831360', 'https://s3-ap-northeast-1.amazonaws.com/projects.crowd4u.org/s201811523/qd/triangle/4604835250831360.png'], ['4630899985481728', 'https://s3-ap-northeast-1.amazonaws.com/projects.crowd4u.org/s201811523/qd/triangle/4630899985481728.png'], ['4686129200627712', 'https://s3-ap-northeast-1.amazonaws.com/projects.crowd4u.org/s201811523/qd/triangle/4686129200627712.png'], ['4687590714245120', 'https://s3-ap-northeast-1.amazonaws.com/projects.crowd4u.org/s201811523/qd/triangle/4687590714245120.png'], ['4702051382591488', 'https://s3-ap-northeast-1.amazonaws.com/projects.crowd4u.org/s201811523/qd/triangle/4702051382591488.png'], ['4769695645302784', 'https://s3-ap-northeast-1.amazonaws.com/projects.crowd4u.org/s201811523/qd/triangle/4769695645302784.png'], ['4779577253560320', 'https://s3-ap-northeast-1.amazonaws.com/projects.crowd4u.org/s201811523/qd/triangle/4779577253560320.png'], ['4787531704958976', 'https://s3-ap-northeast-1.amazonaws.com/projects.crowd4u.org/s201811523/qd/triangle/4787531704958976.png'], ['4805229990117376', 'https://s3-ap-northeast-1.amazonaws.com/projects.crowd4u.org/s201811523/qd/triangle/4805229990117376.png'], ['4842040204460032', 'https://s3-ap-northeast-1.amazonaws.com/projects.crowd4u.org/s201811523/qd/triangle/4842040204460032.png'], ['4855775425986560', 'https://s3-ap-northeast-1.amazonaws.com/projects.crowd4u.org/s201811523/qd/triangle/4855775425986560.png'], ['4898065385259008', 'https://s3-ap-northeast-1.amazonaws.com/projects.crowd4u.org/s201811523/qd/triangle/4898065385259008.png'], ['4951710449532928', 'https://s3-ap-northeast-1.amazonaws.com/projects.crowd4u.org/s201811523/qd/triangle/4951710449532928.png'], ['5010352137830400', 'https://s3-ap-northeast-1.amazonaws.com/projects.crowd4u.org/s201811523/qd/triangle/5010352137830400.png'], ['5021061018025984', 'https://s3-ap-northeast-1.amazonaws.com/projects.crowd4u.org/s201811523/qd/triangle/5021061018025984.png'], ['5031586711994368', 'https://s3-ap-northeast-1.amazonaws.com/projects.crowd4u.org/s201811523/qd/triangle/5031586711994368.png'], ['5042928810459136', 'https://s3-ap-northeast-1.amazonaws.com/projects.crowd4u.org/s201811523/qd/triangle/5042928810459136.png'], ['5055569972953088', 'https://s3-ap-northeast-1.amazonaws.com/projects.crowd4u.org/s201811523/qd/triangle/5055569972953088.png'], ['5085268837138432', 'https://s3-ap-northeast-1.amazonaws.com/projects.crowd4u.org/s201811523/qd/triangle/5085268837138432.png'], ['5088005482086400', 'https://s3-ap-northeast-1.amazonaws.com/projects.crowd4u.org/s201811523/qd/triangle/5088005482086400.png'], ['5128074897129472', 'https://s3-ap-northeast-1.amazonaws.com/projects.crowd4u.org/s201811523/qd/triangle/5128074897129472.png'], ['5136131093954560', 'https://s3-ap-northeast-1.amazonaws.com/projects.crowd4u.org/s201811523/qd/triangle/5136131093954560.png'], ['5143181131776000', 'https://s3-ap-northeast-1.amazonaws.com/projects.crowd4u.org/s201811523/qd/triangle/5143181131776000.png'], ['5160224467976192', 'https://s3-ap-northeast-1.amazonaws.com/projects.crowd4u.org/s201811523/qd/triangle/5160224467976192.png'], ['5214137665716224', 'https://s3-ap-northeast-1.amazonaws.com/projects.crowd4u.org/s201811523/qd/triangle/5214137665716224.png'], ['5217003197431808', 'https://s3-ap-northeast-1.amazonaws.com/projects.crowd4u.org/s201811523/qd/triangle/5217003197431808.png'], ['5227407571156992', 'https://s3-ap-northeast-1.amazonaws.com/projects.crowd4u.org/s201811523/qd/triangle/5227407571156992.png'], ['5264236110413824', 'https://s3-ap-northeast-1.amazonaws.com/projects.crowd4u.org/s201811523/qd/triangle/5264236110413824.png'], ['5374373869387776', 'https://s3-ap-northeast-1.amazonaws.com/projects.crowd4u.org/s201811523/qd/triangle/5374373869387776.png'], ['5411828198801408', 'https://s3-ap-northeast-1.amazonaws.com/projects.crowd4u.org/s201811523/qd/triangle/5411828198801408.png'], ['5417381759287296', 'https://s3-ap-northeast-1.amazonaws.com/projects.crowd4u.org/s201811523/qd/triangle/5417381759287296.png'], ['5417698982887424', 'https://s3-ap-northeast-1.amazonaws.com/projects.crowd4u.org/s201811523/qd/triangle/5417698982887424.png'], ['5417975639179264', 'https://s3-ap-northeast-1.amazonaws.com/projects.crowd4u.org/s201811523/qd/triangle/5417975639179264.png'], ['5458442787487744', 'https://s3-ap-northeast-1.amazonaws.com/projects.crowd4u.org/s201811523/qd/triangle/5458442787487744.png'], ['5477060183064576', 'https://s3-ap-northeast-1.amazonaws.com/projects.crowd4u.org/s201811523/qd/triangle/5477060183064576.png'], ['5490345586458624', 'https://s3-ap-northeast-1.amazonaws.com/projects.crowd4u.org/s201811523/qd/triangle/5490345586458624.png'], ['5493700710891520', 'https://s3-ap-northeast-1.amazonaws.com/projects.crowd4u.org/s201811523/qd/triangle/5493700710891520.png'], ['5561453069205504', 'https://s3-ap-northeast-1.amazonaws.com/projects.crowd4u.org/s201811523/qd/triangle/5561453069205504.png'], ['5578391682023424', 'https://s3-ap-northeast-1.amazonaws.com/projects.crowd4u.org/s201811523/qd/triangle/5578391682023424.png'], ['5603064520114176', 'https://s3-ap-northeast-1.amazonaws.com/projects.crowd4u.org/s201811523/qd/triangle/5603064520114176.png'], ['5629557358985216', 'https://s3-ap-northeast-1.amazonaws.com/projects.crowd4u.org/s201811523/qd/triangle/5629557358985216.png'], ['5630908541435904', 'https://s3-ap-northeast-1.amazonaws.com/projects.crowd4u.org/s201811523/qd/triangle/5630908541435904.png'], ['5645030582648832', 'https://s3-ap-northeast-1.amazonaws.com/projects.crowd4u.org/s201811523/qd/triangle/5645030582648832.png'], ['5683953199480832', 'https://s3-ap-northeast-1.amazonaws.com/projects.crowd4u.org/s201811523/qd/triangle/5683953199480832.png'], ['5703019549163520', 'https://s3-ap-northeast-1.amazonaws.com/projects.crowd4u.org/s201811523/qd/triangle/5703019549163520.png'], ['5720249934544896', 'https://s3-ap-northeast-1.amazonaws.com/projects.crowd4u.org/s201811523/qd/triangle/5720249934544896.png'], ['5727685596676096', 'https://s3-ap-northeast-1.amazonaws.com/projects.crowd4u.org/s201811523/qd/triangle/5727685596676096.png'], ['5733285583912960', 'https://s3-ap-northeast-1.amazonaws.com/projects.crowd4u.org/s201811523/qd/triangle/5733285583912960.png'], ['5737082079150080', 'https://s3-ap-northeast-1.amazonaws.com/projects.crowd4u.org/s201811523/qd/triangle/5737082079150080.png'], ['5752901316116480', 'https://s3-ap-northeast-1.amazonaws.com/projects.crowd4u.org/s201811523/qd/triangle/5752901316116480.png'], ['5772470583820288', 'https://s3-ap-northeast-1.amazonaws.com/projects.crowd4u.org/s201811523/qd/triangle/5772470583820288.png'], ['5790949613502464', 'https://s3-ap-northeast-1.amazonaws.com/projects.crowd4u.org/s201811523/qd/triangle/5790949613502464.png'], ['5791866584825856', 'https://s3-ap-northeast-1.amazonaws.com/projects.crowd4u.org/s201811523/qd/triangle/5791866584825856.png'], ['5792742695239680', 'https://s3-ap-northeast-1.amazonaws.com/projects.crowd4u.org/s201811523/qd/triangle/5792742695239680.png'], ['5804351253643264', 'https://s3-ap-northeast-1.amazonaws.com/projects.crowd4u.org/s201811523/qd/triangle/5804351253643264.png'], ['5805434134855680', 'https://s3-ap-northeast-1.amazonaws.com/projects.crowd4u.org/s201811523/qd/triangle/5805434134855680.png'], ['5815812168351744', 'https://s3-ap-northeast-1.amazonaws.com/projects.crowd4u.org/s201811523/qd/triangle/5815812168351744.png'], ['5828498700632064', 'https://s3-ap-northeast-1.amazonaws.com/projects.crowd4u.org/s201811523/qd/triangle/5828498700632064.png'], ['5848526133133312', 'https://s3-ap-northeast-1.amazonaws.com/projects.crowd4u.org/s201811523/qd/triangle/5848526133133312.png'], ['5863473974083584', 'https://s3-ap-northeast-1.amazonaws.com/projects.crowd4u.org/s201811523/qd/triangle/5863473974083584.png'], ['5926692067475456', 'https://s3-ap-northeast-1.amazonaws.com/projects.crowd4u.org/s201811523/qd/triangle/5926692067475456.png'], ['5988046837121024', 'https://s3-ap-northeast-1.amazonaws.com/projects.crowd4u.org/s201811523/qd/triangle/5988046837121024.png'], ['6004207154888704', 'https://s3-ap-northeast-1.amazonaws.com/projects.crowd4u.org/s201811523/qd/triangle/6004207154888704.png'], ['6027931761508352', 'https://s3-ap-northeast-1.amazonaws.com/projects.crowd4u.org/s201811523/qd/triangle/6027931761508352.png'], ['6046735149301760', 'https://s3-ap-northeast-1.amazonaws.com/projects.crowd4u.org/s201811523/qd/triangle/6046735149301760.png'], ['6052734245535744', 'https://s3-ap-northeast-1.amazonaws.com/projects.crowd4u.org/s201811523/qd/triangle/6052734245535744.png'], ['6086759412662272', 'https://s3-ap-northeast-1.amazonaws.com/projects.crowd4u.org/s201811523/qd/triangle/6086759412662272.png'], ['6158738077515776', 'https://s3-ap-northeast-1.amazonaws.com/projects.crowd4u.org/s201811523/qd/triangle/6158738077515776.png'], ['6190129775378432', 'https://s3-ap-northeast-1.amazonaws.com/projects.crowd4u.org/s201811523/qd/triangle/6190129775378432.png'], ['6209256074248192', 'https://s3-ap-northeast-1.amazonaws.com/projects.crowd4u.org/s201811523/qd/triangle/6209256074248192.png'], ['6240614230261760', 'https://s3-ap-northeast-1.amazonaws.com/projects.crowd4u.org/s201811523/qd/triangle/6240614230261760.png'], ['6249505231994880', 'https://s3-ap-northeast-1.amazonaws.com/projects.crowd4u.org/s201811523/qd/triangle/6249505231994880.png'], ['6266686913118208', 'https://s3-ap-northeast-1.amazonaws.com/projects.crowd4u.org/s201811523/qd/triangle/6266686913118208.png'], ['6310647614668800', 'https://s3-ap-northeast-1.amazonaws.com/projects.crowd4u.org/s201811523/qd/triangle/6310647614668800.png'], ['6323793838473216', 'https://s3-ap-northeast-1.amazonaws.com/projects.crowd4u.org/s201811523/qd/triangle/6323793838473216.png'], ['6343090052792320', 'https://s3-ap-northeast-1.amazonaws.com/projects.crowd4u.org/s201811523/qd/triangle/6343090052792320.png'], ['6388868787994624', 'https://s3-ap-northeast-1.amazonaws.com/projects.crowd4u.org/s201811523/qd/triangle/6388868787994624.png'], ['6391005395812352', 'https://s3-ap-northeast-1.amazonaws.com/projects.crowd4u.org/s201811523/qd/triangle/6391005395812352.png'], ['6410550655320064', 'https://s3-ap-northeast-1.amazonaws.com/projects.crowd4u.org/s201811523/qd/triangle/6410550655320064.png'], ['6419979614289920', 'https://s3-ap-northeast-1.amazonaws.com/projects.crowd4u.org/s201811523/qd/triangle/6419979614289920.png'], ['6451540644593664', 'https://s3-ap-northeast-1.amazonaws.com/projects.crowd4u.org/s201811523/qd/triangle/6451540644593664.png'], ['6459334366068736', 'https://s3-ap-northeast-1.amazonaws.com/projects.crowd4u.org/s201811523/qd/triangle/6459334366068736.png'], ['6465627382349824', 'https://s3-ap-northeast-1.amazonaws.com/projects.crowd4u.org/s201811523/qd/triangle/6465627382349824.png'], ['6493305074352128', 'https://s3-ap-northeast-1.amazonaws.com/projects.crowd4u.org/s201811523/qd/triangle/6493305074352128.png'], ['6498139429142528', 'https://s3-ap-northeast-1.amazonaws.com/projects.crowd4u.org/s201811523/qd/triangle/6498139429142528.png'], ['6509347129524224', 'https://s3-ap-northeast-1.amazonaws.com/projects.crowd4u.org/s201811523/qd/triangle/6509347129524224.png'], ['6532063412879360', 'https://s3-ap-northeast-1.amazonaws.com/projects.crowd4u.org/s201811523/qd/triangle/6532063412879360.png'], ['6544063081742336', 'https://s3-ap-northeast-1.amazonaws.com/projects.crowd4u.org/s201811523/qd/triangle/6544063081742336.png'], ['6586088648867840', 'https://s3-ap-northeast-1.amazonaws.com/projects.crowd4u.org/s201811523/qd/triangle/6586088648867840.png'], ['6590441468198912', 'https://s3-ap-northeast-1.amazonaws.com/projects.crowd4u.org/s201811523/qd/triangle/6590441468198912.png'], ['6635751091470336', 'https://s3-ap-northeast-1.amazonaws.com/projects.crowd4u.org/s201811523/qd/triangle/6635751091470336.png'], ['6636777924198400', 'https://s3-ap-northeast-1.amazonaws.com/projects.crowd4u.org/s201811523/qd/triangle/6636777924198400.png'], ['6688743538819072', 'https://s3-ap-northeast-1.amazonaws.com/projects.crowd4u.org/s201811523/qd/triangle/6688743538819072.png'], ['6712488999518208', 'https://s3-ap-northeast-1.amazonaws.com/projects.crowd4u.org/s201811523/qd/triangle/6712488999518208.png'], ['4507522754936832', 'https://s3-ap-northeast-1.amazonaws.com/projects.crowd4u.org/s201811523/qd/flower/4507522754936832.png'], ['4516158470356992', 'https://s3-ap-northeast-1.amazonaws.com/projects.crowd4u.org/s201811523/qd/flower/4516158470356992.png'], ['4522134212706304', 'https://s3-ap-northeast-1.amazonaws.com/projects.crowd4u.org/s201811523/qd/flower/4522134212706304.png'], ['4526221398376448', 'https://s3-ap-northeast-1.amazonaws.com/projects.crowd4u.org/s201811523/qd/flower/4526221398376448.png'], ['4527653367316480', 'https://s3-ap-northeast-1.amazonaws.com/projects.crowd4u.org/s201811523/qd/flower/4527653367316480.png'], ['4531254026305536', 'https://s3-ap-northeast-1.amazonaws.com/projects.crowd4u.org/s201811523/qd/flower/4531254026305536.png'], ['4577429198733312', 'https://s3-ap-northeast-1.amazonaws.com/projects.crowd4u.org/s201811523/qd/flower/4577429198733312.png'], ['4633455050620928', 'https://s3-ap-northeast-1.amazonaws.com/projects.crowd4u.org/s201811523/qd/flower/4633455050620928.png'], ['4644070683049984', 'https://s3-ap-northeast-1.amazonaws.com/projects.crowd4u.org/s201811523/qd/flower/4644070683049984.png'], ['4678730049912832', 'https://s3-ap-northeast-1.amazonaws.com/projects.crowd4u.org/s201811523/qd/flower/4678730049912832.png'], ['4687284798488576', 'https://s3-ap-northeast-1.amazonaws.com/projects.crowd4u.org/s201811523/qd/flower/4687284798488576.png'], ['4692359000358912', 'https://s3-ap-northeast-1.amazonaws.com/projects.crowd4u.org/s201811523/qd/flower/4692359000358912.png'], ['4697345843265536', 'https://s3-ap-northeast-1.amazonaws.com/projects.crowd4u.org/s201811523/qd/flower/4697345843265536.png'], ['4702789651398656', 'https://s3-ap-northeast-1.amazonaws.com/projects.crowd4u.org/s201811523/qd/flower/4702789651398656.png'], ['4703453089628160', 'https://s3-ap-northeast-1.amazonaws.com/projects.crowd4u.org/s201811523/qd/flower/4703453089628160.png'], ['4720858423623680', 'https://s3-ap-northeast-1.amazonaws.com/projects.crowd4u.org/s201811523/qd/flower/4720858423623680.png'], ['4735479062724608', 'https://s3-ap-northeast-1.amazonaws.com/projects.crowd4u.org/s201811523/qd/flower/4735479062724608.png'], ['4770069542338560', 'https://s3-ap-northeast-1.amazonaws.com/projects.crowd4u.org/s201811523/qd/flower/4770069542338560.png'], ['4771531810930688', 'https://s3-ap-northeast-1.amazonaws.com/projects.crowd4u.org/s201811523/qd/flower/4771531810930688.png'], ['4783662958641152', 'https://s3-ap-northeast-1.amazonaws.com/projects.crowd4u.org/s201811523/qd/flower/4783662958641152.png'], ['4791244112789504', 'https://s3-ap-northeast-1.amazonaws.com/projects.crowd4u.org/s201811523/qd/flower/4791244112789504.png'], ['4794369225785344', 'https://s3-ap-northeast-1.amazonaws.com/projects.crowd4u.org/s201811523/qd/flower/4794369225785344.png'], ['4795070815404032', 'https://s3-ap-northeast-1.amazonaws.com/projects.crowd4u.org/s201811523/qd/flower/4795070815404032.png'], ['4798732522487808', 'https://s3-ap-northeast-1.amazonaws.com/projects.crowd4u.org/s201811523/qd/flower/4798732522487808.png'], ['4812429911392256', 'https://s3-ap-northeast-1.amazonaws.com/projects.crowd4u.org/s201811523/qd/flower/4812429911392256.png'], ['4845580532580352', 'https://s3-ap-northeast-1.amazonaws.com/projects.crowd4u.org/s201811523/qd/flower/4845580532580352.png'], ['4851244772360192', 'https://s3-ap-northeast-1.amazonaws.com/projects.crowd4u.org/s201811523/qd/flower/4851244772360192.png'], ['4857405550624768', 'https://s3-ap-northeast-1.amazonaws.com/projects.crowd4u.org/s201811523/qd/flower/4857405550624768.png'], ['4931335711883264', 'https://s3-ap-northeast-1.amazonaws.com/projects.crowd4u.org/s201811523/qd/flower/4931335711883264.png'], ['4947842231697408', 'https://s3-ap-northeast-1.amazonaws.com/projects.crowd4u.org/s201811523/qd/flower/4947842231697408.png'], ['4999084291129344', 'https://s3-ap-northeast-1.amazonaws.com/projects.crowd4u.org/s201811523/qd/flower/4999084291129344.png'], ['5031641334415360', 'https://s3-ap-northeast-1.amazonaws.com/projects.crowd4u.org/s201811523/qd/flower/5031641334415360.png'], ['5087040913801216', 'https://s3-ap-northeast-1.amazonaws.com/projects.crowd4u.org/s201811523/qd/flower/5087040913801216.png'], ['5103633358127104', 'https://s3-ap-northeast-1.amazonaws.com/projects.crowd4u.org/s201811523/qd/flower/5103633358127104.png'], ['5187851694112768', 'https://s3-ap-northeast-1.amazonaws.com/projects.crowd4u.org/s201811523/qd/flower/5187851694112768.png'], ['5194322381111296', 'https://s3-ap-northeast-1.amazonaws.com/projects.crowd4u.org/s201811523/qd/flower/5194322381111296.png'], ['5223540607418368', 'https://s3-ap-northeast-1.amazonaws.com/projects.crowd4u.org/s201811523/qd/flower/5223540607418368.png'], ['5270085117673472', 'https://s3-ap-northeast-1.amazonaws.com/projects.crowd4u.org/s201811523/qd/flower/5270085117673472.png'], ['5273357547208704', 'https://s3-ap-northeast-1.amazonaws.com/projects.crowd4u.org/s201811523/qd/flower/5273357547208704.png'], ['5347527186448384', 'https://s3-ap-northeast-1.amazonaws.com/projects.crowd4u.org/s201811523/qd/flower/5347527186448384.png'], ['5364018468356096', 'https://s3-ap-northeast-1.amazonaws.com/projects.crowd4u.org/s201811523/qd/flower/5364018468356096.png'], ['5374146055766016', 'https://s3-ap-northeast-1.amazonaws.com/projects.crowd4u.org/s201811523/qd/flower/5374146055766016.png'], ['5376909997244416', 'https://s3-ap-northeast-1.amazonaws.com/projects.crowd4u.org/s201811523/qd/flower/5376909997244416.png'], ['5399997929488384', 'https://s3-ap-northeast-1.amazonaws.com/projects.crowd4u.org/s201811523/qd/flower/5399997929488384.png'], ['5404298135470080', 'https://s3-ap-northeast-1.amazonaws.com/projects.crowd4u.org/s201811523/qd/flower/5404298135470080.png'], ['5422457336889344', 'https://s3-ap-northeast-1.amazonaws.com/projects.crowd4u.org/s201811523/qd/flower/5422457336889344.png'], ['5483055986769920', 'https://s3-ap-northeast-1.amazonaws.com/projects.crowd4u.org/s201811523/qd/flower/5483055986769920.png'], ['5484064066764800', 'https://s3-ap-northeast-1.amazonaws.com/projects.crowd4u.org/s201811523/qd/flower/5484064066764800.png'], ['5519002484867072', 'https://s3-ap-northeast-1.amazonaws.com/projects.crowd4u.org/s201811523/qd/flower/5519002484867072.png'], ['5536654464909312', 'https://s3-ap-northeast-1.amazonaws.com/projects.crowd4u.org/s201811523/qd/flower/5536654464909312.png'], ['5567995109703680', 'https://s3-ap-northeast-1.amazonaws.com/projects.crowd4u.org/s201811523/qd/flower/5567995109703680.png'], ['5568676780572672', 'https://s3-ap-northeast-1.amazonaws.com/projects.crowd4u.org/s201811523/qd/flower/5568676780572672.png'], ['5578125326942208', 'https://s3-ap-northeast-1.amazonaws.com/projects.crowd4u.org/s201811523/qd/flower/5578125326942208.png'], ['5633441552924672', 'https://s3-ap-northeast-1.amazonaws.com/projects.crowd4u.org/s201811523/qd/flower/5633441552924672.png'], ['5647060839694336', 'https://s3-ap-northeast-1.amazonaws.com/projects.crowd4u.org/s201811523/qd/flower/5647060839694336.png'], ['5656823254220800', 'https://s3-ap-northeast-1.amazonaws.com/projects.crowd4u.org/s201811523/qd/flower/5656823254220800.png'], ['5678951508738048', 'https://s3-ap-northeast-1.amazonaws.com/projects.crowd4u.org/s201811523/qd/flower/5678951508738048.png'], ['5695073540898816', 'https://s3-ap-northeast-1.amazonaws.com/projects.crowd4u.org/s201811523/qd/flower/5695073540898816.png'], ['5713716349763584', 'https://s3-ap-northeast-1.amazonaws.com/projects.crowd4u.org/s201811523/qd/flower/5713716349763584.png'], ['5724636656435200', 'https://s3-ap-northeast-1.amazonaws.com/projects.crowd4u.org/s201811523/qd/flower/5724636656435200.png'], ['5739467967037440', 'https://s3-ap-northeast-1.amazonaws.com/projects.crowd4u.org/s201811523/qd/flower/5739467967037440.png'], ['5773057060765696', 'https://s3-ap-northeast-1.amazonaws.com/projects.crowd4u.org/s201811523/qd/flower/5773057060765696.png'], ['5782660259512320', 'https://s3-ap-northeast-1.amazonaws.com/projects.crowd4u.org/s201811523/qd/flower/5782660259512320.png'], ['5796553685991424', 'https://s3-ap-northeast-1.amazonaws.com/projects.crowd4u.org/s201811523/qd/flower/5796553685991424.png'], ['5845346594848768', 'https://s3-ap-northeast-1.amazonaws.com/projects.crowd4u.org/s201811523/qd/flower/5845346594848768.png'], ['5849458690490368', 'https://s3-ap-northeast-1.amazonaws.com/projects.crowd4u.org/s201811523/qd/flower/5849458690490368.png'], ['5866552626774016', 'https://s3-ap-northeast-1.amazonaws.com/projects.crowd4u.org/s201811523/qd/flower/5866552626774016.png'], ['5896059018543104', 'https://s3-ap-northeast-1.amazonaws.com/projects.crowd4u.org/s201811523/qd/flower/5896059018543104.png'], ['5908987675410432', 'https://s3-ap-northeast-1.amazonaws.com/projects.crowd4u.org/s201811523/qd/flower/5908987675410432.png'], ['5917569947009024', 'https://s3-ap-northeast-1.amazonaws.com/projects.crowd4u.org/s201811523/qd/flower/5917569947009024.png'], ['5921171776208896', 'https://s3-ap-northeast-1.amazonaws.com/projects.crowd4u.org/s201811523/qd/flower/5921171776208896.png'], ['5930969938788352', 'https://s3-ap-northeast-1.amazonaws.com/projects.crowd4u.org/s201811523/qd/flower/5930969938788352.png'], ['5949420312985600', 'https://s3-ap-northeast-1.amazonaws.com/projects.crowd4u.org/s201811523/qd/flower/5949420312985600.png'], ['5955760120922112', 'https://s3-ap-northeast-1.amazonaws.com/projects.crowd4u.org/s201811523/qd/flower/5955760120922112.png'], ['5979160113577984', 'https://s3-ap-northeast-1.amazonaws.com/projects.crowd4u.org/s201811523/qd/flower/5979160113577984.png'], ['6022252791332864', 'https://s3-ap-northeast-1.amazonaws.com/projects.crowd4u.org/s201811523/qd/flower/6022252791332864.png'], ['6047481295011840', 'https://s3-ap-northeast-1.amazonaws.com/projects.crowd4u.org/s201811523/qd/flower/6047481295011840.png'], ['6094795124506624', 'https://s3-ap-northeast-1.amazonaws.com/projects.crowd4u.org/s201811523/qd/flower/6094795124506624.png'], ['6106759699628032', 'https://s3-ap-northeast-1.amazonaws.com/projects.crowd4u.org/s201811523/qd/flower/6106759699628032.png'], ['6132044872548352', 'https://s3-ap-northeast-1.amazonaws.com/projects.crowd4u.org/s201811523/qd/flower/6132044872548352.png'], ['6167885439303680', 'https://s3-ap-northeast-1.amazonaws.com/projects.crowd4u.org/s201811523/qd/flower/6167885439303680.png'], ['6203308395986944', 'https://s3-ap-northeast-1.amazonaws.com/projects.crowd4u.org/s201811523/qd/flower/6203308395986944.png'], ['6310289068785664', 'https://s3-ap-northeast-1.amazonaws.com/projects.crowd4u.org/s201811523/qd/flower/6310289068785664.png'], ['6324465619173376', 'https://s3-ap-northeast-1.amazonaws.com/projects.crowd4u.org/s201811523/qd/flower/6324465619173376.png'], ['6340228413390848', 'https://s3-ap-northeast-1.amazonaws.com/projects.crowd4u.org/s201811523/qd/flower/6340228413390848.png'], ['6343830620078080', 'https://s3-ap-northeast-1.amazonaws.com/projects.crowd4u.org/s201811523/qd/flower/6343830620078080.png'], ['6410929447108608', 'https://s3-ap-northeast-1.amazonaws.com/projects.crowd4u.org/s201811523/qd/flower/6410929447108608.png'], ['6475674602700800', 'https://s3-ap-northeast-1.amazonaws.com/projects.crowd4u.org/s201811523/qd/flower/6475674602700800.png'], ['6518179931095040', 'https://s3-ap-northeast-1.amazonaws.com/projects.crowd4u.org/s201811523/qd/flower/6518179931095040.png'], ['6546547300892672', 'https://s3-ap-northeast-1.amazonaws.com/projects.crowd4u.org/s201811523/qd/flower/6546547300892672.png'], ['6555911470448640', 'https://s3-ap-northeast-1.amazonaws.com/projects.crowd4u.org/s201811523/qd/flower/6555911470448640.png'], ['6560212276215808', 'https://s3-ap-northeast-1.amazonaws.com/projects.crowd4u.org/s201811523/qd/flower/6560212276215808.png'], ['6569841597087744', 'https://s3-ap-northeast-1.amazonaws.com/projects.crowd4u.org/s201811523/qd/flower/6569841597087744.png'], ['6569895296761856', 'https://s3-ap-northeast-1.amazonaws.com/projects.crowd4u.org/s201811523/qd/flower/6569895296761856.png'], ['6593203010535424', 'https://s3-ap-northeast-1.amazonaws.com/projects.crowd4u.org/s201811523/qd/flower/6593203010535424.png'], ['6600831811977216', 'https://s3-ap-northeast-1.amazonaws.com/projects.crowd4u.org/s201811523/qd/flower/6600831811977216.png'], ['6614794666770432', 'https://s3-ap-northeast-1.amazonaws.com/projects.crowd4u.org/s201811523/qd/flower/6614794666770432.png'], ['6678948425498624', 'https://s3-ap-northeast-1.amazonaws.com/projects.crowd4u.org/s201811523/qd/flower/6678948425498624.png'], ['6705597472833536', 'https://s3-ap-northeast-1.amazonaws.com/projects.crowd4u.org/s201811523/qd/flower/6705597472833536.png'], ['6754519130046464', 'https://s3-ap-northeast-1.amazonaws.com/projects.crowd4u.org/s201811523/qd/flower/6754519130046464.png']]\n"
     ]
    }
   ],
   "source": [
    "print(key_url_list)"
   ]
  },
  {
   "cell_type": "code",
   "execution_count": 23,
   "metadata": {},
   "outputs": [],
   "source": [
    "# key_idとurlをcsvファイルに書き込み\n",
    "with open('key_url.csv', 'w') as fout:\n",
    "            csvout=csv.writer(fout, lineterminator='\\n')\n",
    "            csvout.writerows(key_url_list)"
   ]
  },
  {
   "cell_type": "code",
   "execution_count": 24,
   "metadata": {
    "scrolled": false
   },
   "outputs": [
    {
     "name": "stdout",
     "output_type": "stream",
     "text": [
      "600\n"
     ]
    }
   ],
   "source": [
    "print(len(url_list))"
   ]
  },
  {
   "cell_type": "code",
   "execution_count": 25,
   "metadata": {},
   "outputs": [
    {
     "name": "stdout",
     "output_type": "stream",
     "text": [
      "600\n"
     ]
    }
   ],
   "source": [
    "print(len(key_url_list))"
   ]
  },
  {
   "cell_type": "code",
   "execution_count": null,
   "metadata": {},
   "outputs": [],
   "source": []
  },
  {
   "cell_type": "code",
   "execution_count": null,
   "metadata": {},
   "outputs": [],
   "source": []
  },
  {
   "cell_type": "code",
   "execution_count": null,
   "metadata": {},
   "outputs": [],
   "source": []
  },
  {
   "cell_type": "code",
   "execution_count": null,
   "metadata": {},
   "outputs": [],
   "source": []
  },
  {
   "cell_type": "code",
   "execution_count": null,
   "metadata": {},
   "outputs": [],
   "source": []
  },
  {
   "cell_type": "code",
   "execution_count": null,
   "metadata": {},
   "outputs": [],
   "source": []
  },
  {
   "cell_type": "code",
   "execution_count": null,
   "metadata": {},
   "outputs": [],
   "source": []
  },
  {
   "cell_type": "code",
   "execution_count": null,
   "metadata": {},
   "outputs": [],
   "source": []
  }
 ],
 "metadata": {
  "kernelspec": {
   "display_name": "Python 3",
   "language": "python",
   "name": "python3"
  },
  "language_info": {
   "codemirror_mode": {
    "name": "ipython",
    "version": 3
   },
   "file_extension": ".py",
   "mimetype": "text/x-python",
   "name": "python",
   "nbconvert_exporter": "python",
   "pygments_lexer": "ipython3",
   "version": "3.8.5"
  }
 },
 "nbformat": 4,
 "nbformat_minor": 4
}
